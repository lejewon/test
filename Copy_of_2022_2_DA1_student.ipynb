{
  "nbformat": 4,
  "nbformat_minor": 0,
  "metadata": {
    "colab": {
      "provenance": [],
      "collapsed_sections": []
    },
    "kernelspec": {
      "name": "python3",
      "display_name": "Python 3"
    },
    "language_info": {
      "name": "python"
    }
  },
  "cells": [
    {
      "cell_type": "markdown",
      "source": [
        "# 1. 임의의 영어로된 문장들을 입력받으면,  '.', ',', '.', '!', '?', ':', ';'  punctuation을 없애고, 이 문장에 포함된 단어를 추출하여, 알파벳 순서 (a 부터 z) 로 정렬한 후, 그 정렬된 단어들을 리스트로 반환하는 함수 sort_sentence() 를 작성하라. string 의 메소드인 replace() 와 lower(), split() 을 활용하라. 아래의 코드를 실행했을 때, 결과값이 다음과 같이 나와야 한다.(20점)\n",
        "\n",
        "```\n",
        "input_str = input(\"여러 단어로 이루어진 글을 입력하세요: \")\n",
        "sort_sentence(input_str)\n",
        "\n",
        "#실행결과 \n",
        "여러 단어로 이루어진 글을 입력하세요: I like watching a movie! \n",
        "['a', 'i', 'like', 'movie', 'watching']\n",
        "```"
      ],
      "metadata": {
        "id": "XlBtQN0-YUJk"
      }
    },
    {
      "cell_type": "code",
      "execution_count": 14,
      "metadata": {
        "id": "xkJiZOYSXk3h",
        "colab": {
          "base_uri": "https://localhost:8080/"
        },
        "outputId": "ef818313-1a01-439e-eb24-bf76c3771653"
      },
      "outputs": [
        {
          "name": "stdout",
          "output_type": "stream",
          "text": [
            "여러 단어로 이루진 글을 입력하시오I like watching a movie!\n"
          ]
        }
      ],
      "source": [
        "# 여기에 \n",
        "\n",
        "punctuations = ['.',',','!','?',':',';']\n",
        "def sort_sentence(input_str):\n",
        "  for i in punctuations:\n",
        "    input_str=input_str.replace(i,' ')\n",
        "  input_str=input_str.lower()\n",
        "  input_str=input_str.split(' ')\n",
        "  input_str=input_str.sort()\n",
        "  return input_str\n",
        "input_str= input(\"여러 단어로 이루진 글을 입력하시오\")\n",
        "sort_sentence(input_str)  "
      ]
    },
    {
      "cell_type": "markdown",
      "source": [
        "\n",
        "# 2. 거꾸로 정수는 121이나 3443와 같이 거꾸로 나열해도 그 값이 원래의 값과 같은 정수를 말한다. 사용자로부터 숫자 n을 입력받아 이 수가 거꾸로 정수인지 아닌지를 판단하는 다음과 같은 프로그램을 작성하시오. (20점)"
      ],
      "metadata": {
        "id": "SPRfn4gdYhBI"
      }
    },
    {
      "cell_type": "code",
      "source": [
        "# 여기에 \n",
        "n=int(input('정수를 입력하시오'))\n",
        "a=len(str(n))\n",
        "n1=str(n)\n",
        "if a%2==0:\n",
        "  for i in range(a//2):\n",
        "    if n1[i]==n1[a-i-1]:\n",
        "      if i==a-i-2:\n",
        "        print(\"이숫자는 거꾸로 정수입니다.\")\n",
        "        break\n",
        "      else:\n",
        "        continue\n",
        "    else:\n",
        "      print('이숫자는 거꾸로 정수가 아닙니다.')\n",
        "      break\n",
        "else:\n",
        "  for b in range(a//2+1):\n",
        "    if n1[b]==n1[a-b-1]:\n",
        "      if b==a-b-1:\n",
        "        print(\"이숫자는 거꾸로 정수입니다.\")\n",
        "        break\n",
        "      else:\n",
        "        continue\n",
        "    else:\n",
        "      print('이숫자는 거꾸로 정수가 아닙니다.')\n",
        "      break\n",
        "\n"
      ],
      "metadata": {
        "id": "VU2gKctfYAkU",
        "colab": {
          "base_uri": "https://localhost:8080/"
        },
        "outputId": "8c8989fc-42a2-4515-9bfc-86f820456611"
      },
      "execution_count": 32,
      "outputs": [
        {
          "output_type": "stream",
          "name": "stdout",
          "text": [
            "정수를 입력하시오123\n",
            "이숫자는 거꾸로 정수가 아닙니다.\n"
          ]
        }
      ]
    },
    {
      "cell_type": "markdown",
      "source": [
        "## 3. 중심이 원점 (0,0) 에 있고, 반지름이 5인 원이 있다고 하자. 사용자로부터 x 와 y 좌표를 입력 받은 후, 입력받은 점의 좌표 (x,y) 가 원의 내부에 있으면 '원의 내부에 있음'\n",
        "## 원의 외부에 있으면 '원의 외부에 있음'을 출력하는 프로그램을 작성하라. \n",
        "## (힌트) 어떤 점이 원점과의 거리가 반지름보다 크면 원의 외부에 있고, 반지름보다 작거나 크면 원의 내부에 있다고 판단할 수 있다. (20점)"
      ],
      "metadata": {
        "id": "zKhNK7h7YqxI"
      }
    },
    {
      "cell_type": "code",
      "source": [
        "# 여기에 \n",
        "x=int(input('x좌표를 입력하시오'))\n",
        "y=int(input('y좌표를 입력하시오'))\n",
        "z=(x**2+y**2)**(1/2)\n",
        "if z>5:\n",
        "  print('이점은 원 외부에 있다')\n",
        "else:\n",
        "  print('이점은 원 내부에 있다')"
      ],
      "metadata": {
        "id": "aiaAAOkUYrNt",
        "colab": {
          "base_uri": "https://localhost:8080/"
        },
        "outputId": "76e05573-ca1b-414a-cb0f-8591f46c4a15"
      },
      "execution_count": 33,
      "outputs": [
        {
          "output_type": "stream",
          "name": "stdout",
          "text": [
            "x좌표를 입력하시오5\n",
            "y좌표를 입력하시오0\n",
            "이점은 원 내부에 있다\n"
          ]
        }
      ]
    },
    {
      "cell_type": "markdown",
      "source": [
        "# 4. 두 점의 좌표 (x1, y1), (x2, y2) 를 받아, 두 점의 거리를 반환하는 함수 cal_dist()를 작성하라. 이 함수는 각 좌표를 가변인자로 한번에 받아, 함수 안에서 분해하여 계산한다. 코드는 아래와 같이 각각의 좌표를 개별적으로 입력 받는다. 이 함수를 while 안에서 입력된--input() 함수 사용-- 각 좌표 값이 양수일 때만 실행되도록한다. 계산이 완료되면, 제어키워드 (continue or break) 를 사용하여 while 문을 빠져나오도록 한다. 출력시 format() 함수를 쓰고, 인덱스와 출력 총 자릿수는 5, 소수점 아래 3자리까지 출력되도록 하라.(20점)\n",
        "\n",
        "```\n",
        "\n",
        "# 메인 코드 형태 \n",
        "# 좌표 입력 \n",
        "x1 = int(input(\"x1 좌표를 입력하시오 :\"))\n",
        "y1 = int(input(\"y1 좌표를 입력하시오 :\"))\n",
        "x2 = int(input(\"x2 좌표를 입력하시오 :\"))\n",
        "y2 = int(input(\"y2 좌표를 입력하시오 :\"))\n",
        "\n",
        "\n",
        "# 함수 실행부분 \n",
        "while __ : \n",
        "  r = # input() 으로 반지름 입력 받기 \n",
        "  if # r 에 대해서 양수, 음수 판별하기 \n",
        "     # 여기서 함수 호출\n",
        "     # '두 ({x1값}, {y1값}), ({x2값}, {y2값}) 의 거리는 {} 입니다.' 를 출력 \n",
        "```"
      ],
      "metadata": {
        "id": "NWAGDTYXYtwF"
      }
    },
    {
      "cell_type": "code",
      "source": [
        "# 여기에 \n",
        "x1 = int(input(\"x1 좌표를 입력하시오 :\"))\n",
        "y1 = int(input(\"y1 좌표를 입력하시오 :\"))\n",
        "x2 = int(input(\"x2 좌표를 입력하시오 :\"))\n",
        "y2 = int(input(\"y2 좌표를 입력하시오 :\"))\n",
        "def cal_dist(x,y):\n",
        "  z=(x**2+y**2)**(1/2)\n",
        "  return z\n",
        "z1=cal_dist(x1-x2,y1-y2)\n",
        "print( '두 ({0:5.3f},{1:5.3f}),({2:5.3f},{3:5.3f}) 의 거리는 {4:5.3f} 입니다.'.format(x1,y1,x2,y2,z1))\n",
        "  \n",
        "\n"
      ],
      "metadata": {
        "id": "Jxy82zt0ZJ7G",
        "colab": {
          "base_uri": "https://localhost:8080/"
        },
        "outputId": "7409f64b-7987-4102-9546-111b5db0960c"
      },
      "execution_count": 41,
      "outputs": [
        {
          "output_type": "stream",
          "name": "stdout",
          "text": [
            "x1 좌표를 입력하시오 :1\n",
            "y1 좌표를 입력하시오 :2\n",
            "x2 좌표를 입력하시오 :2\n",
            "y2 좌표를 입력하시오 :1\n",
            "두 (1.000,2.000),(2.000,1.000) 의 거리는 1.414 입니다.\n"
          ]
        }
      ]
    },
    {
      "cell_type": "markdown",
      "source": [
        "2# 5. 원의 반지름을 입력받고, 해당 입력받은 반지름에 대해 둘레와 넓이를 반환하는 함수 cal_area_circum() 를 작성하라. 이 함수는 반지름 인자를 r 로 받는데, 함수 정의에서 기본으로 r = 1 로 설정한다. 함수를 호출할 때, 위에서와 유사하게 입력을 받을 것인데, 양수일 때만 실행되도록 함수 호출부를 작성한다. 함수 작성 후, 호출하여 반환된 두 값 (즉, 둘레와 넓이의 합을 계산하여라)(20점)\n",
        "\n",
        "```\n",
        "# 함수 정의는 미리 되어있어야 함. \n",
        "\n",
        "# 메인 코드 부분 \n",
        "# 반지름을 입력받음. \n",
        "while # 반지름이 양수이지 않으면 다시 입력 받고 \n",
        " if # 양수인 경우에만 함수 실행 \n",
        "\n",
        "# total_sum 에 둘레와 넓이 계산하여 할당한 후 \n",
        "# total_sum 출력 \n",
        "\n",
        "```"
      ],
      "metadata": {
        "id": "MbyNfwdgZefC"
      }
    },
    {
      "cell_type": "code",
      "source": [
        "# 여기에 \n",
        "import math\n",
        "def cal_area_circum(r):\n",
        "  area=(math.pi)*r**2\n",
        "  circum=(math.pi)*2*r\n",
        "  return area+circum\n",
        "\n",
        "r=int(input(\"원의 원지름을 입력하시오\"))\n",
        "while r<0:\n",
        "  r=int(input(\"원의 원지름을 다시 입력하시오\"))\n",
        "if r==1:\n",
        "  total_sum=2*math.pi\n",
        "  print('{0:5.3}'.format(total_sum))\n",
        "else:\n",
        "  total_sum=cal_area_circum(r)\n",
        "  print('{0:5.3}'.format(total_sum))\n",
        "\n",
        "\n"
      ],
      "metadata": {
        "id": "zxMsrMVDZ1k8",
        "colab": {
          "base_uri": "https://localhost:8080/"
        },
        "outputId": "dc917e5d-66b7-46a6-8ada-8e94b2b551e7"
      },
      "execution_count": 42,
      "outputs": [
        {
          "output_type": "stream",
          "name": "stdout",
          "text": [
            "원의 원지름을 입력하시오-9\n",
            "원의 원지름을 다시 입력하시오-8\n",
            "원의 원지름을 다시 입력하시오8\n",
            "2.51e+02\n"
          ]
        }
      ]
    },
    {
      "cell_type": "markdown",
      "source": [
        "# [가산점문제]  뱀행렬 문제 : 사용자로부터 숫자 1보다 크고 10보다 작은 값 n을 입력으로 받아서, n 의 n배 되는 숫자까지 다음과 같은 ㄹ 자 형태로 증가하는 이차원 배열을 출력하여라. 이 배열은 마치 뱀의 몸통처럼 수가 1씩 증가하는 형태의 배열이라서 뱀행렬이라는 이름을 지었다. (20점)"
      ],
      "metadata": {
        "id": "DSYJfML6hTfn"
      }
    },
    {
      "cell_type": "code",
      "source": [
        "# 여기에 \n",
        "n=int(input('1보다 크고 10보다 작은 값 숫자를 입력'))\n",
        "for b in range(1,n+1):\n",
        "  if b%2==0:\n",
        "    for i in range(b,b*n+1):\n",
        "      print(b)\n",
        "      if i==n*n:\n",
        "        break\n",
        "      else:\n",
        "        continue\n",
        "      if i==b*n:\n",
        "        print(b,end=' ')\n",
        "      else: \n",
        "        continue\n",
        "  else:\n",
        "    for i in range(b,b*n+1):\n",
        "      print(b)\n",
        "      if i==n*n:\n",
        "        break\n",
        "      else:\n",
        "        continue\n",
        "      if i==b*n:\n",
        "        print(b,end=' ')\n",
        "      else: \n",
        "        continue\n"
      ],
      "metadata": {
        "id": "vrUYX6qehV-R"
      },
      "execution_count": null,
      "outputs": []
    }
  ]
}